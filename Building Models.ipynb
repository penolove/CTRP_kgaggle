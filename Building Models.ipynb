{
 "cells": [
  {
   "cell_type": "markdown",
   "metadata": {},
   "source": [
    "# [Sec 0] submit a avg score csv\n",
    "data set in trainging.csv\n",
    "- id: ad identifier\n",
    "- click: 0/1 for non-click/click\n",
    "- hour: format is YYMMDDHH, so 14091123 means 23:00 on Sept. 11, 2014 UTC. *\n",
    "- C1 – anonymized categorical variable *\n",
    "- banner_pos\n",
    "- site_id *\n",
    "- site_domain *\n",
    "- site_category *\n",
    "- app_id *\n",
    "- app_domain *\n",
    "- app_category  *\n",
    "- device_id\n",
    "- device_ip *\n",
    "- device_model\n",
    "- device_type *\n",
    "- device_conn_type *\n",
    "- C14-C21 – anonymized categorical variables"
   ]
  },
  {
   "cell_type": "code",
   "execution_count": 1,
   "metadata": {
    "collapsed": true
   },
   "outputs": [],
   "source": [
    "import pandas as pd"
   ]
  },
  {
   "cell_type": "code",
   "execution_count": 2,
   "metadata": {
    "collapsed": true
   },
   "outputs": [],
   "source": [
    "sampleSubmission = pd.read_csv(\"data/sampleSubmission\")"
   ]
  },
  {
   "cell_type": "code",
   "execution_count": 3,
   "metadata": {},
   "outputs": [
    {
     "data": {
      "text/html": [
       "<div>\n",
       "<style>\n",
       "    .dataframe thead tr:only-child th {\n",
       "        text-align: right;\n",
       "    }\n",
       "\n",
       "    .dataframe thead th {\n",
       "        text-align: left;\n",
       "    }\n",
       "\n",
       "    .dataframe tbody tr th {\n",
       "        vertical-align: top;\n",
       "    }\n",
       "</style>\n",
       "<table border=\"1\" class=\"dataframe\">\n",
       "  <thead>\n",
       "    <tr style=\"text-align: right;\">\n",
       "      <th></th>\n",
       "      <th>id</th>\n",
       "      <th>click</th>\n",
       "    </tr>\n",
       "  </thead>\n",
       "  <tbody>\n",
       "    <tr>\n",
       "      <th>0</th>\n",
       "      <td>10000174058809263569</td>\n",
       "      <td>0.169806</td>\n",
       "    </tr>\n",
       "    <tr>\n",
       "      <th>1</th>\n",
       "      <td>10000182526920855428</td>\n",
       "      <td>0.169806</td>\n",
       "    </tr>\n",
       "    <tr>\n",
       "      <th>2</th>\n",
       "      <td>10000554139829213984</td>\n",
       "      <td>0.169806</td>\n",
       "    </tr>\n",
       "    <tr>\n",
       "      <th>3</th>\n",
       "      <td>10001094637809798845</td>\n",
       "      <td>0.169806</td>\n",
       "    </tr>\n",
       "    <tr>\n",
       "      <th>4</th>\n",
       "      <td>10001377041558670745</td>\n",
       "      <td>0.169806</td>\n",
       "    </tr>\n",
       "  </tbody>\n",
       "</table>\n",
       "</div>"
      ],
      "text/plain": [
       "                     id     click\n",
       "0  10000174058809263569  0.169806\n",
       "1  10000182526920855428  0.169806\n",
       "2  10000554139829213984  0.169806\n",
       "3  10001094637809798845  0.169806\n",
       "4  10001377041558670745  0.169806"
      ]
     },
     "execution_count": 3,
     "metadata": {},
     "output_type": "execute_result"
    }
   ],
   "source": [
    "sampleSubmission.click = 0.16980562476404604\n",
    "sampleSubmission.head()"
   ]
  },
  {
   "cell_type": "code",
   "execution_count": 4,
   "metadata": {
    "collapsed": true
   },
   "outputs": [],
   "source": [
    "# all avg-score can reach rank (1314/1604) 81 %\n",
    "sampleSubmission.to_csv(\"avg_submission.csv\",index=False)"
   ]
  },
  {
   "cell_type": "markdown",
   "metadata": {},
   "source": [
    "# [Sec1] Train a xgb model with minimum features"
   ]
  },
  {
   "cell_type": "code",
   "execution_count": 2,
   "metadata": {},
   "outputs": [
    {
     "name": "stderr",
     "output_type": "stream",
     "text": [
      "/home/stream/anaconda3/lib/python3.6/site-packages/sklearn/cross_validation.py:44: DeprecationWarning: This module was deprecated in version 0.18 in favor of the model_selection module into which all the refactored classes and functions are moved. Also note that the interface of the new CV iterators are different from that of this module. This module will be removed in 0.20.\n",
      "  \"This module will be removed in 0.20.\", DeprecationWarning)\n"
     ]
    }
   ],
   "source": [
    "import xgboost as xgb\n",
    "import pandas as pd\n",
    "import numpy as np\n",
    "import random"
   ]
  },
  {
   "cell_type": "code",
   "execution_count": 7,
   "metadata": {},
   "outputs": [],
   "source": [
    "# training data is to large, sample ~0.5N\n",
    "N= 40428967 \n",
    "s = int(N/2) #desired sample size\n",
    "skip = sorted(random.sample(range(1,N+1),N-s)) \n",
    "X_train = pd.read_csv(\"data/train\", skiprows=skip)\n"
   ]
  },
  {
   "cell_type": "code",
   "execution_count": 8,
   "metadata": {},
   "outputs": [],
   "source": [
    "# feat\n",
    "from sklearn.feature_extraction import FeatureHasher\n",
    "hasher = FeatureHasher(n_features=10,\n",
    "            non_negative=True,\n",
    "            input_type='string')\n",
    "tmp_site_id = hasher.transform(X_train.site_id.tolist()).toarray()\n",
    "for i in range(10):\n",
    "    X_train['Site_id'+str(i)]=tmp_site_id[:,i]"
   ]
  },
  {
   "cell_type": "code",
   "execution_count": 9,
   "metadata": {
    "collapsed": true
   },
   "outputs": [],
   "source": [
    "Site_list = ['Site_id'+str(i) for i in range(10)]\n",
    "X_train_trial = X_train[['banner_pos','C1','device_type','device_conn_type','C14','C15','C16','C17','C18',\\\n",
    "                         'C19','C20','C21']+Site_list]\n",
    "y_target = X_train.click.values"
   ]
  },
  {
   "cell_type": "code",
   "execution_count": 10,
   "metadata": {
    "collapsed": true
   },
   "outputs": [],
   "source": [
    "msk = np.random.rand(len(X_train_trial)) < 0.8\n",
    "dtrain = xgb.DMatrix(X_train_trial[msk], y_target[msk])\n",
    "dtest = xgb.DMatrix(X_train_trial[~msk], y_target[~msk])"
   ]
  },
  {
   "cell_type": "code",
   "execution_count": null,
   "metadata": {
    "scrolled": true
   },
   "outputs": [
    {
     "name": "stdout",
     "output_type": "stream",
     "text": [
      "[0]\teval-logloss:0.511968\ttrain-logloss:0.511717\n",
      "Multiple eval metrics have been passed: 'train-logloss' will be used for early stopping.\n",
      "\n",
      "Will train until train-logloss hasn't improved in 300 rounds.\n",
      "[1]\teval-logloss:0.45266\ttrain-logloss:0.452279\n",
      "[2]\teval-logloss:0.42931\ttrain-logloss:0.428822\n",
      "[3]\teval-logloss:0.420055\ttrain-logloss:0.419517\n",
      "[4]\teval-logloss:0.415532\ttrain-logloss:0.41496\n",
      "[5]\teval-logloss:0.413285\ttrain-logloss:0.412684\n",
      "[6]\teval-logloss:0.411675\ttrain-logloss:0.411065\n",
      "[7]\teval-logloss:0.410772\ttrain-logloss:0.41014\n",
      "[8]\teval-logloss:0.409882\ttrain-logloss:0.409239\n",
      "[9]\teval-logloss:0.409373\ttrain-logloss:0.408714\n",
      "[10]\teval-logloss:0.409052\ttrain-logloss:0.408383\n",
      "[11]\teval-logloss:0.408686\ttrain-logloss:0.408013\n",
      "[12]\teval-logloss:0.408359\ttrain-logloss:0.407673\n",
      "[13]\teval-logloss:0.407953\ttrain-logloss:0.407256\n",
      "[14]\teval-logloss:0.407703\ttrain-logloss:0.407008\n",
      "[15]\teval-logloss:0.407551\ttrain-logloss:0.40686\n",
      "[16]\teval-logloss:0.407365\ttrain-logloss:0.406671\n",
      "[17]\teval-logloss:0.406912\ttrain-logloss:0.406215\n",
      "[18]\teval-logloss:0.40672\ttrain-logloss:0.406024\n",
      "[19]\teval-logloss:0.406671\ttrain-logloss:0.405973\n",
      "[20]\teval-logloss:0.406491\ttrain-logloss:0.405788\n",
      "[21]\teval-logloss:0.406319\ttrain-logloss:0.405609\n",
      "[22]\teval-logloss:0.406152\ttrain-logloss:0.405422\n",
      "[23]\teval-logloss:0.406058\ttrain-logloss:0.40532\n",
      "[24]\teval-logloss:0.405923\ttrain-logloss:0.405169\n",
      "[25]\teval-logloss:0.405844\ttrain-logloss:0.405081\n",
      "[26]\teval-logloss:0.40573\ttrain-logloss:0.404963\n",
      "[27]\teval-logloss:0.40567\ttrain-logloss:0.404896\n",
      "[28]\teval-logloss:0.405602\ttrain-logloss:0.404817\n",
      "[29]\teval-logloss:0.405578\ttrain-logloss:0.404789\n",
      "[30]\teval-logloss:0.405515\ttrain-logloss:0.404717\n",
      "[31]\teval-logloss:0.405486\ttrain-logloss:0.404683\n",
      "[32]\teval-logloss:0.405399\ttrain-logloss:0.404587\n",
      "[33]\teval-logloss:0.40537\ttrain-logloss:0.404554\n",
      "[34]\teval-logloss:0.405329\ttrain-logloss:0.404511\n",
      "[35]\teval-logloss:0.405317\ttrain-logloss:0.404493\n",
      "[36]\teval-logloss:0.405297\ttrain-logloss:0.404464\n",
      "[37]\teval-logloss:0.405259\ttrain-logloss:0.404422\n",
      "[38]\teval-logloss:0.405189\ttrain-logloss:0.40434\n",
      "[39]\teval-logloss:0.405162\ttrain-logloss:0.404308\n",
      "[40]\teval-logloss:0.405082\ttrain-logloss:0.404222\n",
      "[41]\teval-logloss:0.405012\ttrain-logloss:0.404153\n",
      "[42]\teval-logloss:0.404973\ttrain-logloss:0.404098\n",
      "[43]\teval-logloss:0.404931\ttrain-logloss:0.404044\n",
      "[44]\teval-logloss:0.404913\ttrain-logloss:0.404023\n",
      "[45]\teval-logloss:0.404849\ttrain-logloss:0.403949\n",
      "[46]\teval-logloss:0.404757\ttrain-logloss:0.403843\n",
      "[47]\teval-logloss:0.404729\ttrain-logloss:0.403809\n",
      "[48]\teval-logloss:0.404654\ttrain-logloss:0.403732\n",
      "[49]\teval-logloss:0.404632\ttrain-logloss:0.403701\n",
      "[50]\teval-logloss:0.404623\ttrain-logloss:0.403682\n",
      "[51]\teval-logloss:0.404581\ttrain-logloss:0.403628\n",
      "[52]\teval-logloss:0.404554\ttrain-logloss:0.403592\n",
      "[53]\teval-logloss:0.404533\ttrain-logloss:0.403571\n",
      "[54]\teval-logloss:0.40451\ttrain-logloss:0.403545\n",
      "[55]\teval-logloss:0.404483\ttrain-logloss:0.403513\n",
      "[56]\teval-logloss:0.404474\ttrain-logloss:0.403501\n",
      "[57]\teval-logloss:0.404466\ttrain-logloss:0.403486\n",
      "[58]\teval-logloss:0.404456\ttrain-logloss:0.403469\n",
      "[59]\teval-logloss:0.404441\ttrain-logloss:0.403442\n",
      "[60]\teval-logloss:0.404403\ttrain-logloss:0.403395\n",
      "[61]\teval-logloss:0.404381\ttrain-logloss:0.403367\n",
      "[62]\teval-logloss:0.404365\ttrain-logloss:0.403343\n",
      "[63]\teval-logloss:0.404335\ttrain-logloss:0.403304\n",
      "[64]\teval-logloss:0.404334\ttrain-logloss:0.403296\n",
      "[65]\teval-logloss:0.404325\ttrain-logloss:0.403276\n",
      "[66]\teval-logloss:0.404323\ttrain-logloss:0.403267\n",
      "[67]\teval-logloss:0.404292\ttrain-logloss:0.403225\n",
      "[68]\teval-logloss:0.404256\ttrain-logloss:0.403179\n",
      "[69]\teval-logloss:0.404247\ttrain-logloss:0.403161\n",
      "[70]\teval-logloss:0.404202\ttrain-logloss:0.403109\n",
      "[71]\teval-logloss:0.404199\ttrain-logloss:0.403096\n",
      "[72]\teval-logloss:0.404181\ttrain-logloss:0.40307\n",
      "[73]\teval-logloss:0.404173\ttrain-logloss:0.403058\n",
      "[74]\teval-logloss:0.404143\ttrain-logloss:0.403021\n",
      "[75]\teval-logloss:0.404127\ttrain-logloss:0.403001\n",
      "[76]\teval-logloss:0.404109\ttrain-logloss:0.402974\n",
      "[77]\teval-logloss:0.404074\ttrain-logloss:0.402932\n",
      "[78]\teval-logloss:0.404067\ttrain-logloss:0.402919\n",
      "[79]\teval-logloss:0.404047\ttrain-logloss:0.402893\n",
      "[80]\teval-logloss:0.404045\ttrain-logloss:0.402881\n",
      "[81]\teval-logloss:0.404038\ttrain-logloss:0.402872\n",
      "[82]\teval-logloss:0.404029\ttrain-logloss:0.402862\n",
      "[83]\teval-logloss:0.404014\ttrain-logloss:0.402841\n",
      "[84]\teval-logloss:0.404012\ttrain-logloss:0.40283\n",
      "[85]\teval-logloss:0.403992\ttrain-logloss:0.402803\n",
      "[86]\teval-logloss:0.403984\ttrain-logloss:0.402789\n",
      "[87]\teval-logloss:0.403977\ttrain-logloss:0.402781\n",
      "[88]\teval-logloss:0.403963\ttrain-logloss:0.40276\n",
      "[89]\teval-logloss:0.403954\ttrain-logloss:0.402747\n",
      "[90]\teval-logloss:0.403944\ttrain-logloss:0.402733\n",
      "[91]\teval-logloss:0.403938\ttrain-logloss:0.402716\n",
      "[92]\teval-logloss:0.403925\ttrain-logloss:0.402696\n",
      "[93]\teval-logloss:0.403921\ttrain-logloss:0.402678\n",
      "[94]\teval-logloss:0.403914\ttrain-logloss:0.402665\n",
      "[95]\teval-logloss:0.403906\ttrain-logloss:0.402653\n",
      "[96]\teval-logloss:0.403894\ttrain-logloss:0.40263\n",
      "[97]\teval-logloss:0.403889\ttrain-logloss:0.402621\n",
      "[98]\teval-logloss:0.403884\ttrain-logloss:0.402611\n",
      "[99]\teval-logloss:0.403874\ttrain-logloss:0.402598\n",
      "[100]\teval-logloss:0.403856\ttrain-logloss:0.402577\n",
      "[101]\teval-logloss:0.40385\ttrain-logloss:0.402562\n",
      "[102]\teval-logloss:0.403834\ttrain-logloss:0.402544\n",
      "[103]\teval-logloss:0.403827\ttrain-logloss:0.402533\n",
      "[104]\teval-logloss:0.403825\ttrain-logloss:0.402522\n",
      "[105]\teval-logloss:0.403819\ttrain-logloss:0.402507\n",
      "[106]\teval-logloss:0.40382\ttrain-logloss:0.4025\n",
      "[107]\teval-logloss:0.403812\ttrain-logloss:0.402486\n",
      "[108]\teval-logloss:0.403809\ttrain-logloss:0.402478\n",
      "[109]\teval-logloss:0.403808\ttrain-logloss:0.402474\n",
      "[110]\teval-logloss:0.4038\ttrain-logloss:0.402456\n",
      "[111]\teval-logloss:0.40379\ttrain-logloss:0.402441\n",
      "[112]\teval-logloss:0.403785\ttrain-logloss:0.402432\n",
      "[113]\teval-logloss:0.403776\ttrain-logloss:0.402422\n",
      "[114]\teval-logloss:0.403771\ttrain-logloss:0.402416\n",
      "[115]\teval-logloss:0.403762\ttrain-logloss:0.402398\n",
      "[116]\teval-logloss:0.403742\ttrain-logloss:0.402371\n",
      "[117]\teval-logloss:0.403735\ttrain-logloss:0.402358\n"
     ]
    }
   ],
   "source": [
    "param = {'max_depth':8, 'eta':0.5, 'silent':1, 'objective':'binary:logistic' ,'subsample':0.3}\n",
    "param['nthread'] = 6\n",
    "param['eval_metric'] = 'logloss'\n",
    "evallist  = [(dtest,'eval'), (dtrain,'train')]\n",
    "num_round = 8000\n",
    "bst = xgb.train( param, dtrain, num_round, evallist , early_stopping_rounds=300)"
   ]
  },
  {
   "cell_type": "code",
   "execution_count": null,
   "metadata": {
    "collapsed": true
   },
   "outputs": [],
   "source": []
  }
 ],
 "metadata": {
  "kernelspec": {
   "display_name": "Python 3",
   "language": "python",
   "name": "python3"
  },
  "language_info": {
   "codemirror_mode": {
    "name": "ipython",
    "version": 3
   },
   "file_extension": ".py",
   "mimetype": "text/x-python",
   "name": "python",
   "nbconvert_exporter": "python",
   "pygments_lexer": "ipython3",
   "version": "3.6.1"
  }
 },
 "nbformat": 4,
 "nbformat_minor": 2
}
