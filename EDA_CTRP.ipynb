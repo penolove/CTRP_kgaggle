{
 "cells": [
  {
   "cell_type": "markdown",
   "metadata": {},
   "source": [
    "# Compeletition : click-through Rate prediction\n",
    "https://www.kaggle.com/c/avazu-ctr-prediction\n",
    "\n",
    "this notebook  were wrote with python 3.6 installed with anaconda "
   ]
  },
  {
   "cell_type": "code",
   "execution_count": 1,
   "metadata": {
    "collapsed": true
   },
   "outputs": [],
   "source": [
    "import pandas as pd"
   ]
  },
  {
   "cell_type": "code",
   "execution_count": 2,
   "metadata": {
    "collapsed": true
   },
   "outputs": [],
   "source": [
    "# expore data first\n",
    "X_train_display = pd.read_csv(\"data/train\",nrows=10)"
   ]
  },
  {
   "cell_type": "code",
   "execution_count": 3,
   "metadata": {},
   "outputs": [
    {
     "data": {
      "text/html": [
       "<div>\n",
       "<style>\n",
       "    .dataframe thead tr:only-child th {\n",
       "        text-align: right;\n",
       "    }\n",
       "\n",
       "    .dataframe thead th {\n",
       "        text-align: left;\n",
       "    }\n",
       "\n",
       "    .dataframe tbody tr th {\n",
       "        vertical-align: top;\n",
       "    }\n",
       "</style>\n",
       "<table border=\"1\" class=\"dataframe\">\n",
       "  <thead>\n",
       "    <tr style=\"text-align: right;\">\n",
       "      <th></th>\n",
       "      <th>id</th>\n",
       "      <th>click</th>\n",
       "      <th>hour</th>\n",
       "      <th>C1</th>\n",
       "      <th>banner_pos</th>\n",
       "      <th>site_id</th>\n",
       "      <th>site_domain</th>\n",
       "      <th>site_category</th>\n",
       "      <th>app_id</th>\n",
       "      <th>app_domain</th>\n",
       "      <th>...</th>\n",
       "      <th>device_type</th>\n",
       "      <th>device_conn_type</th>\n",
       "      <th>C14</th>\n",
       "      <th>C15</th>\n",
       "      <th>C16</th>\n",
       "      <th>C17</th>\n",
       "      <th>C18</th>\n",
       "      <th>C19</th>\n",
       "      <th>C20</th>\n",
       "      <th>C21</th>\n",
       "    </tr>\n",
       "  </thead>\n",
       "  <tbody>\n",
       "    <tr>\n",
       "      <th>0</th>\n",
       "      <td>1000009418151094273</td>\n",
       "      <td>0</td>\n",
       "      <td>14102100</td>\n",
       "      <td>1005</td>\n",
       "      <td>0</td>\n",
       "      <td>1fbe01fe</td>\n",
       "      <td>f3845767</td>\n",
       "      <td>28905ebd</td>\n",
       "      <td>ecad2386</td>\n",
       "      <td>7801e8d9</td>\n",
       "      <td>...</td>\n",
       "      <td>1</td>\n",
       "      <td>2</td>\n",
       "      <td>15706</td>\n",
       "      <td>320</td>\n",
       "      <td>50</td>\n",
       "      <td>1722</td>\n",
       "      <td>0</td>\n",
       "      <td>35</td>\n",
       "      <td>-1</td>\n",
       "      <td>79</td>\n",
       "    </tr>\n",
       "    <tr>\n",
       "      <th>1</th>\n",
       "      <td>10000169349117863715</td>\n",
       "      <td>0</td>\n",
       "      <td>14102100</td>\n",
       "      <td>1005</td>\n",
       "      <td>0</td>\n",
       "      <td>1fbe01fe</td>\n",
       "      <td>f3845767</td>\n",
       "      <td>28905ebd</td>\n",
       "      <td>ecad2386</td>\n",
       "      <td>7801e8d9</td>\n",
       "      <td>...</td>\n",
       "      <td>1</td>\n",
       "      <td>0</td>\n",
       "      <td>15704</td>\n",
       "      <td>320</td>\n",
       "      <td>50</td>\n",
       "      <td>1722</td>\n",
       "      <td>0</td>\n",
       "      <td>35</td>\n",
       "      <td>100084</td>\n",
       "      <td>79</td>\n",
       "    </tr>\n",
       "    <tr>\n",
       "      <th>2</th>\n",
       "      <td>10000371904215119486</td>\n",
       "      <td>0</td>\n",
       "      <td>14102100</td>\n",
       "      <td>1005</td>\n",
       "      <td>0</td>\n",
       "      <td>1fbe01fe</td>\n",
       "      <td>f3845767</td>\n",
       "      <td>28905ebd</td>\n",
       "      <td>ecad2386</td>\n",
       "      <td>7801e8d9</td>\n",
       "      <td>...</td>\n",
       "      <td>1</td>\n",
       "      <td>0</td>\n",
       "      <td>15704</td>\n",
       "      <td>320</td>\n",
       "      <td>50</td>\n",
       "      <td>1722</td>\n",
       "      <td>0</td>\n",
       "      <td>35</td>\n",
       "      <td>100084</td>\n",
       "      <td>79</td>\n",
       "    </tr>\n",
       "    <tr>\n",
       "      <th>3</th>\n",
       "      <td>10000640724480838376</td>\n",
       "      <td>0</td>\n",
       "      <td>14102100</td>\n",
       "      <td>1005</td>\n",
       "      <td>0</td>\n",
       "      <td>1fbe01fe</td>\n",
       "      <td>f3845767</td>\n",
       "      <td>28905ebd</td>\n",
       "      <td>ecad2386</td>\n",
       "      <td>7801e8d9</td>\n",
       "      <td>...</td>\n",
       "      <td>1</td>\n",
       "      <td>0</td>\n",
       "      <td>15706</td>\n",
       "      <td>320</td>\n",
       "      <td>50</td>\n",
       "      <td>1722</td>\n",
       "      <td>0</td>\n",
       "      <td>35</td>\n",
       "      <td>100084</td>\n",
       "      <td>79</td>\n",
       "    </tr>\n",
       "    <tr>\n",
       "      <th>4</th>\n",
       "      <td>10000679056417042096</td>\n",
       "      <td>0</td>\n",
       "      <td>14102100</td>\n",
       "      <td>1005</td>\n",
       "      <td>1</td>\n",
       "      <td>fe8cc448</td>\n",
       "      <td>9166c161</td>\n",
       "      <td>0569f928</td>\n",
       "      <td>ecad2386</td>\n",
       "      <td>7801e8d9</td>\n",
       "      <td>...</td>\n",
       "      <td>1</td>\n",
       "      <td>0</td>\n",
       "      <td>18993</td>\n",
       "      <td>320</td>\n",
       "      <td>50</td>\n",
       "      <td>2161</td>\n",
       "      <td>0</td>\n",
       "      <td>35</td>\n",
       "      <td>-1</td>\n",
       "      <td>157</td>\n",
       "    </tr>\n",
       "    <tr>\n",
       "      <th>5</th>\n",
       "      <td>10000720757801103869</td>\n",
       "      <td>0</td>\n",
       "      <td>14102100</td>\n",
       "      <td>1005</td>\n",
       "      <td>0</td>\n",
       "      <td>d6137915</td>\n",
       "      <td>bb1ef334</td>\n",
       "      <td>f028772b</td>\n",
       "      <td>ecad2386</td>\n",
       "      <td>7801e8d9</td>\n",
       "      <td>...</td>\n",
       "      <td>1</td>\n",
       "      <td>0</td>\n",
       "      <td>16920</td>\n",
       "      <td>320</td>\n",
       "      <td>50</td>\n",
       "      <td>1899</td>\n",
       "      <td>0</td>\n",
       "      <td>431</td>\n",
       "      <td>100077</td>\n",
       "      <td>117</td>\n",
       "    </tr>\n",
       "    <tr>\n",
       "      <th>6</th>\n",
       "      <td>10000724729988544911</td>\n",
       "      <td>0</td>\n",
       "      <td>14102100</td>\n",
       "      <td>1005</td>\n",
       "      <td>0</td>\n",
       "      <td>8fda644b</td>\n",
       "      <td>25d4cfcd</td>\n",
       "      <td>f028772b</td>\n",
       "      <td>ecad2386</td>\n",
       "      <td>7801e8d9</td>\n",
       "      <td>...</td>\n",
       "      <td>1</td>\n",
       "      <td>0</td>\n",
       "      <td>20362</td>\n",
       "      <td>320</td>\n",
       "      <td>50</td>\n",
       "      <td>2333</td>\n",
       "      <td>0</td>\n",
       "      <td>39</td>\n",
       "      <td>-1</td>\n",
       "      <td>157</td>\n",
       "    </tr>\n",
       "    <tr>\n",
       "      <th>7</th>\n",
       "      <td>10000918755742328737</td>\n",
       "      <td>0</td>\n",
       "      <td>14102100</td>\n",
       "      <td>1005</td>\n",
       "      <td>1</td>\n",
       "      <td>e151e245</td>\n",
       "      <td>7e091613</td>\n",
       "      <td>f028772b</td>\n",
       "      <td>ecad2386</td>\n",
       "      <td>7801e8d9</td>\n",
       "      <td>...</td>\n",
       "      <td>1</td>\n",
       "      <td>0</td>\n",
       "      <td>20632</td>\n",
       "      <td>320</td>\n",
       "      <td>50</td>\n",
       "      <td>2374</td>\n",
       "      <td>3</td>\n",
       "      <td>39</td>\n",
       "      <td>-1</td>\n",
       "      <td>23</td>\n",
       "    </tr>\n",
       "    <tr>\n",
       "      <th>8</th>\n",
       "      <td>10000949271186029916</td>\n",
       "      <td>1</td>\n",
       "      <td>14102100</td>\n",
       "      <td>1005</td>\n",
       "      <td>0</td>\n",
       "      <td>1fbe01fe</td>\n",
       "      <td>f3845767</td>\n",
       "      <td>28905ebd</td>\n",
       "      <td>ecad2386</td>\n",
       "      <td>7801e8d9</td>\n",
       "      <td>...</td>\n",
       "      <td>1</td>\n",
       "      <td>2</td>\n",
       "      <td>15707</td>\n",
       "      <td>320</td>\n",
       "      <td>50</td>\n",
       "      <td>1722</td>\n",
       "      <td>0</td>\n",
       "      <td>35</td>\n",
       "      <td>-1</td>\n",
       "      <td>79</td>\n",
       "    </tr>\n",
       "    <tr>\n",
       "      <th>9</th>\n",
       "      <td>10001264480619467364</td>\n",
       "      <td>0</td>\n",
       "      <td>14102100</td>\n",
       "      <td>1002</td>\n",
       "      <td>0</td>\n",
       "      <td>84c7ba46</td>\n",
       "      <td>c4e18dd6</td>\n",
       "      <td>50e219e0</td>\n",
       "      <td>ecad2386</td>\n",
       "      <td>7801e8d9</td>\n",
       "      <td>...</td>\n",
       "      <td>0</td>\n",
       "      <td>0</td>\n",
       "      <td>21689</td>\n",
       "      <td>320</td>\n",
       "      <td>50</td>\n",
       "      <td>2496</td>\n",
       "      <td>3</td>\n",
       "      <td>167</td>\n",
       "      <td>100191</td>\n",
       "      <td>23</td>\n",
       "    </tr>\n",
       "  </tbody>\n",
       "</table>\n",
       "<p>10 rows × 24 columns</p>\n",
       "</div>"
      ],
      "text/plain": [
       "                     id  click      hour    C1  banner_pos   site_id  \\\n",
       "0   1000009418151094273      0  14102100  1005           0  1fbe01fe   \n",
       "1  10000169349117863715      0  14102100  1005           0  1fbe01fe   \n",
       "2  10000371904215119486      0  14102100  1005           0  1fbe01fe   \n",
       "3  10000640724480838376      0  14102100  1005           0  1fbe01fe   \n",
       "4  10000679056417042096      0  14102100  1005           1  fe8cc448   \n",
       "5  10000720757801103869      0  14102100  1005           0  d6137915   \n",
       "6  10000724729988544911      0  14102100  1005           0  8fda644b   \n",
       "7  10000918755742328737      0  14102100  1005           1  e151e245   \n",
       "8  10000949271186029916      1  14102100  1005           0  1fbe01fe   \n",
       "9  10001264480619467364      0  14102100  1002           0  84c7ba46   \n",
       "\n",
       "  site_domain site_category    app_id app_domain ...  device_type  \\\n",
       "0    f3845767      28905ebd  ecad2386   7801e8d9 ...            1   \n",
       "1    f3845767      28905ebd  ecad2386   7801e8d9 ...            1   \n",
       "2    f3845767      28905ebd  ecad2386   7801e8d9 ...            1   \n",
       "3    f3845767      28905ebd  ecad2386   7801e8d9 ...            1   \n",
       "4    9166c161      0569f928  ecad2386   7801e8d9 ...            1   \n",
       "5    bb1ef334      f028772b  ecad2386   7801e8d9 ...            1   \n",
       "6    25d4cfcd      f028772b  ecad2386   7801e8d9 ...            1   \n",
       "7    7e091613      f028772b  ecad2386   7801e8d9 ...            1   \n",
       "8    f3845767      28905ebd  ecad2386   7801e8d9 ...            1   \n",
       "9    c4e18dd6      50e219e0  ecad2386   7801e8d9 ...            0   \n",
       "\n",
       "  device_conn_type    C14  C15  C16   C17  C18  C19     C20  C21  \n",
       "0                2  15706  320   50  1722    0   35      -1   79  \n",
       "1                0  15704  320   50  1722    0   35  100084   79  \n",
       "2                0  15704  320   50  1722    0   35  100084   79  \n",
       "3                0  15706  320   50  1722    0   35  100084   79  \n",
       "4                0  18993  320   50  2161    0   35      -1  157  \n",
       "5                0  16920  320   50  1899    0  431  100077  117  \n",
       "6                0  20362  320   50  2333    0   39      -1  157  \n",
       "7                0  20632  320   50  2374    3   39      -1   23  \n",
       "8                2  15707  320   50  1722    0   35      -1   79  \n",
       "9                0  21689  320   50  2496    3  167  100191   23  \n",
       "\n",
       "[10 rows x 24 columns]"
      ]
     },
     "metadata": {},
     "output_type": "display_data"
    }
   ],
   "source": [
    "from IPython.display import display\n",
    "display(X_train_display)"
   ]
  },
  {
   "cell_type": "markdown",
   "metadata": {},
   "source": [
    "- id: ad identifier\n",
    "- click: 0/1 for non-click/click\n",
    "- hour: format is YYMMDDHH, so 14091123 means 23:00 on Sept. 11, 2014 UTC.\n",
    "- C1 -- anonymized categorical variable\n",
    "- banner_pos\n",
    "- site_id\n",
    "- site_domain\n",
    "- site_category\n",
    "- app_id\n",
    "- app_domain\n",
    "- app_category\n",
    "- device_id\n",
    "- device_ip\n",
    "- device_model\n",
    "- device_type\n",
    "- device_conn_type\n",
    "- C14-C21 -- anonymized categorical variables"
   ]
  },
  {
   "cell_type": "markdown",
   "metadata": {},
   "source": [
    "It seems thoat most of data are De-identified."
   ]
  },
  {
   "cell_type": "code",
   "execution_count": 4,
   "metadata": {
    "collapsed": true
   },
   "outputs": [],
   "source": [
    "# now I Wanna check features distribution.\n",
    "X_train = pd.read_csv(\"data/train\")\n",
    "X_test = pd.read_csv(\"data/test\")"
   ]
  },
  {
   "cell_type": "code",
   "execution_count": 5,
   "metadata": {},
   "outputs": [
    {
     "name": "stdout",
     "output_type": "stream",
     "text": [
      "Mena click probaility in training set is about 0.16980562476404604\n"
     ]
    }
   ],
   "source": [
    "p_=X_train.click.value_counts()\n",
    "p_bar = p_[1]/len(X_train)\n",
    "print(\"Mena click probaility in training set is about {}\".format(p_bar))"
   ]
  },
  {
   "cell_type": "markdown",
   "metadata": {},
   "source": [
    "## Hours\n",
    "the training set start at 14102100-14103023\n",
    "\n",
    "the testing set start at 14103100-14103123\n",
    "\n",
    "testing data is the day after training set(10 days)\n",
    "\n",
    "wanna check:\n",
    "- if same weekday have simiar behavior (i.e. 141031 v.s. 141024)\n",
    "- if different click rate between weekday/hours"
   ]
  },
  {
   "cell_type": "code",
   "execution_count": 6,
   "metadata": {
    "scrolled": false
   },
   "outputs": [
    {
     "data": {
      "image/png": "[encoded data removed]",
      "text/plain": [
       "<matplotlib.figure.Figure at 0x7f5a7a5171d0>"
      ]
     },
     "metadata": {},
     "output_type": "display_data"
    }
   ],
   "source": [
    "import matplotlib.pyplot as plt\n",
    "import seaborn as sns\n",
    "import numpy as np\n",
    "color = sns.color_palette()\n",
    "%matplotlib inline\n",
    "\n",
    "\n",
    "click_time_counts_train = X_train.hour.value_counts().sort_index()\n",
    "click_time_counts_test = X_test.hour.value_counts().sort_index()\n",
    "\n",
    "click_time_counts_train = pd.DataFrame({'value':click_time_counts_train,'train':[0]*len(click_time_counts_train)})\n",
    "click_time_counts_test = pd.DataFrame({'value':click_time_counts_test,'train':[1]*len(click_time_counts_test)})\n",
    "\n",
    "\n",
    "click_time_counts = pd.concat([click_time_counts_train, click_time_counts_test]).sort_index()\n",
    "\n",
    "start = np.where(click_time_counts.index == 14102400)[0][0]\n",
    "end = np.where(click_time_counts.index == 14102423)[0][0]\n",
    "# label the same weekday\n",
    "click_time_counts.iloc[start:end,[0]]=1\n",
    "\n",
    "plt.figure(figsize=(12,8))\n",
    "sns.barplot(click_time_counts.index, click_time_counts.value, hue = click_time_counts.train)\n",
    "\n",
    "plt.ylabel('Count of records', fontsize=12)\n",
    "plt.xlabel('Time Stamp', fontsize=12)\n",
    "plt.title('Count of records in each timestamp', fontsize=15)\n",
    "plt.xticks(rotation='vertical')\n",
    "\n",
    "plt.show()\n"
   ]
  },
  {
   "cell_type": "markdown",
   "metadata": {},
   "source": [
    "I seems the weekday behavior differently. \n",
    "\n",
    "but, there may be some effects for weekend/weekday on click-rate,\n",
    "\n",
    "go on check probability between weekday/hour and click rate"
   ]
  },
  {
   "cell_type": "code",
   "execution_count": 7,
   "metadata": {},
   "outputs": [
    {
     "name": "stdout",
     "output_type": "stream",
     "text": [
      "for hour: 0,  click rate: 0.18035135793880105\n",
      "for hour: 1,  click rate: 0.18577373312320264\n",
      "for hour: 2,  click rate: 0.17610773780703246\n",
      "for hour: 3,  click rate: 0.1741993036459588\n",
      "for hour: 4,  click rate: 0.15956741795010632\n",
      "for hour: 5,  click rate: 0.16338736309889268\n",
      "for hour: 6,  click rate: 0.16811639586712301\n",
      "for hour: 7,  click rate: 0.1791903158293643\n",
      "for hour: 8,  click rate: 0.1632046345307652\n",
      "for hour: 9,  click rate: 0.16010404142328175\n",
      "for hour: 10,  click rate: 0.16125591518692992\n",
      "for hour: 11,  click rate: 0.17043668613850818\n",
      "for hour: 12,  click rate: 0.17073260960676861\n",
      "for hour: 13,  click rate: 0.16843427260510815\n",
      "for hour: 14,  click rate: 0.1774484358882315\n",
      "for hour: 15,  click rate: 0.18120976909055445\n",
      "for hour: 16,  click rate: 0.17944523696306863\n",
      "for hour: 17,  click rate: 0.17326500214089294\n",
      "for hour: 18,  click rate: 0.16817221741350855\n",
      "for hour: 19,  click rate: 0.1639955242845493\n",
      "for hour: 20,  click rate: 0.16051084775134364\n",
      "for hour: 21,  click rate: 0.16066560385432288\n",
      "for hour: 22,  click rate: 0.16383957342969357\n",
      "for hour: 23,  click rate: 0.17184169932740656\n"
     ]
    },
    {
     "data": {
      "text/plain": [
       "<matplotlib.axes._subplots.AxesSubplot at 0x7f5a77dd1208>"
      ]
     },
     "execution_count": 7,
     "metadata": {},
     "output_type": "execute_result"
    },
    {
     "data": {
      "image/png": "[encoded data removed]",
      "text/plain": [
       "<matplotlib.figure.Figure at 0x7f5b25596c18>"
      ]
     },
     "metadata": {},
     "output_type": "display_data"
    }
   ],
   "source": [
    "hourvalues = (click_time_counts.index%100).unique()\n",
    "click_avg_list=[]\n",
    "for i in hourvalues:\n",
    "    click_avg=X_train.loc[np.where(X_train.hour%100 == i)].click.mean()\n",
    "    click_avg_list.append(click_avg)\n",
    "    print(\"for hour: {},  click rate: {}\".format(i,click_avg))\n",
    "sns.tsplot(data=np.asarray(click_avg_list))"
   ]
  },
  {
   "cell_type": "markdown",
   "metadata": {},
   "source": [
    "most high click rate is hour1, and lowest is hour4. it seems a userful feature for roughly estimation."
   ]
  },
  {
   "cell_type": "code",
   "execution_count": 50,
   "metadata": {},
   "outputs": [
    {
     "name": "stdout",
     "output_type": "stream",
     "text": [
      "for Day: 21, Wed,  click rate: 0.17419812539185714\n",
      "for Day: 22, Thurs,  click rate: 0.15716698462805637\n",
      "for Day: 23, Fri,  click rate: 0.18218966237051612\n",
      "for Day: 24, Sat,  click rate: 0.17471581284093615\n",
      "for Day: 25, Sun,  click rate: 0.1824019467625617\n",
      "for Day: 26, Mon,  click rate: 0.18304894924048956\n",
      "for Day: 27, Tues,  click rate: 0.18159416559948652\n",
      "for Day: 28, Wed,  click rate: 0.15218237478963434\n",
      "for Day: 29, Thurs,  click rate: 0.1565620590469988\n",
      "for Day: 30, Fri,  click rate: 0.16928075264438586\n"
     ]
    },
    {
     "data": {
      "text/plain": [
       "<matplotlib.axes._subplots.AxesSubplot at 0x7f5a768230f0>"
      ]
     },
     "execution_count": 50,
     "metadata": {},
     "output_type": "execute_result"
    },
    {
     "data": {
      "image/png": "[encoded data removed]",
      "text/plain": [
       "<matplotlib.figure.Figure at 0x7f5a77e49ef0>"
      ]
     },
     "metadata": {},
     "output_type": "display_data"
    }
   ],
   "source": [
    "dayvalues = (X_train.hour%10000/100).astype(int).unique()\n",
    "weekdays = ['Mon','Tues','Wed','Thurs','Fri','Sat','Sun']\n",
    "click_avg_list=[]\n",
    "for i in dayvalues:\n",
    "    click_avg=X_train.loc[np.where((X_train.hour%10000/100).astype(int) == i)].click.mean()\n",
    "    click_avg_list.append(click_avg)\n",
    "    print(\"for Day: {}, {},  click rate: {}\".format(i,weekdays[(i+2)%7],click_avg))\n",
    "sns.tsplot(data=np.asarray(click_avg_list),time=dayvalues)"
   ]
  },
  {
   "cell_type": "markdown",
   "metadata": {},
   "source": [
    "\n",
    "\n",
    "it seems that click rate during 2~6 has more stable high rate, and if weekyday has effects on click rate\n",
    "\n",
    "the testing data may has similar effct as Day3(0.175) above"
   ]
  },
  {
   "cell_type": "markdown",
   "metadata": {},
   "source": [
    "##  C1 distribution"
   ]
  },
  {
   "cell_type": "code",
   "execution_count": 9,
   "metadata": {},
   "outputs": [
    {
     "name": "stdout",
     "output_type": "stream",
     "text": [
      "1005    0.918664\n",
      "1002    0.054931\n",
      "1010    0.022347\n",
      "1012    0.002808\n",
      "1007    0.000873\n",
      "1001    0.000234\n",
      "1008    0.000143\n",
      "Name: C1, dtype: float64\n",
      "1005    9.430316e-01\n",
      "1002    3.657593e-02\n",
      "1010    1.469373e-02\n",
      "1012    3.144754e-03\n",
      "1007    2.119077e-03\n",
      "1001    4.347385e-04\n",
      "1008    2.184616e-07\n",
      "Name: C1, dtype: float64\n"
     ]
    }
   ],
   "source": [
    "print (X_train.C1.value_counts()/len(X_train))\n",
    "print (X_test.C1.value_counts()/len(X_test))"
   ]
  },
  {
   "cell_type": "markdown",
   "metadata": {},
   "source": [
    "C1 values  were slightly different but the order are the same between training set and testing set"
   ]
  },
  {
   "cell_type": "code",
   "execution_count": 10,
   "metadata": {},
   "outputs": [
    {
     "name": "stdout",
     "output_type": "stream",
     "text": [
      "for C1 value: 1001,  click rate: 0.033393215682130405\n",
      "for C1 value: 1002,  click rate: 0.21073148019733323\n",
      "for C1 value: 1005,  click rate: 0.1693308826839565\n",
      "for C1 value: 1007,  click rate: 0.03942895989123046\n",
      "for C1 value: 1008,  click rate: 0.12165197857266287\n",
      "for C1 value: 1010,  click rate: 0.09521537826371371\n",
      "for C1 value: 1012,  click rate: 0.17249277609415745\n"
     ]
    },
    {
     "data": {
      "text/plain": [
       "<matplotlib.axes._subplots.AxesSubplot at 0x7f5a768e09b0>"
      ]
     },
     "execution_count": 10,
     "metadata": {},
     "output_type": "execute_result"
    },
    {
     "data": {
      "image/png": "[encoded data removed]",
      "text/plain": [
       "<matplotlib.figure.Figure at 0x7f5a76a23f28>"
      ]
     },
     "metadata": {},
     "output_type": "display_data"
    }
   ],
   "source": [
    "# to see if the value of C1 indicate something about click rate\n",
    "C1_values = X_train.C1.unique()\n",
    "C1_values.sort()\n",
    "click_avg_list=[]\n",
    "for i in C1_values:\n",
    "    click_avg=X_train.loc[np.where((X_train.C1 == i))].click.mean()\n",
    "    click_avg_list.append(click_avg)\n",
    "    print(\"for C1 value: {},  click rate: {}\".format(i,click_avg))\n",
    "sns.tsplot(data=np.asarray(click_avg_list),time=C1_values)"
   ]
  },
  {
   "cell_type": "markdown",
   "metadata": {},
   "source": [
    "it seems has obviously difference in C1 values, and not likely to using numerical type to explain click rate\n",
    "\n",
    "major values pair here are: \n",
    "- 1005[90%]:0.16\n",
    "- 1002[5%]:0.21\n",
    "- 1010[2%]:0.09 \n",
    "\n",
    "**It seems 1002,1010 that this variable is useful obviously higher/lower than avg . **"
   ]
  },
  {
   "cell_type": "markdown",
   "metadata": {},
   "source": [
    "## banner_pos "
   ]
  },
  {
   "cell_type": "code",
   "execution_count": 11,
   "metadata": {},
   "outputs": [
    {
     "name": "stdout",
     "output_type": "stream",
     "text": [
      "0    0.720018\n",
      "1    0.278199\n",
      "7    0.001078\n",
      "2    0.000322\n",
      "4    0.000191\n",
      "5    0.000143\n",
      "3    0.000050\n",
      "Name: banner_pos, dtype: float64\n",
      "0    0.798182\n",
      "1    0.199498\n",
      "7    0.001219\n",
      "3    0.000710\n",
      "2    0.000346\n",
      "4    0.000045\n",
      "Name: banner_pos, dtype: float64\n"
     ]
    }
   ],
   "source": [
    "print (X_train.banner_pos.value_counts()/len(X_train))\n",
    "print (X_test.banner_pos.value_counts()/len(X_test))"
   ]
  },
  {
   "cell_type": "markdown",
   "metadata": {},
   "source": [
    "Testing set did not have the 5 value in banner and the order of 2,3,4 are different (but the propotion very little)"
   ]
  },
  {
   "cell_type": "code",
   "execution_count": 12,
   "metadata": {},
   "outputs": [
    {
     "name": "stdout",
     "output_type": "stream",
     "text": [
      "for banner value: 0,  click rate: 0.16427235835338114\n",
      "for banner value: 1,  click rate: 0.18361449459522755\n",
      "for banner value: 2,  click rate: 0.11922159833858934\n",
      "for banner value: 3,  click rate: 0.1828009828009828\n",
      "for banner value: 4,  click rate: 0.1853582554517134\n",
      "for banner value: 5,  click rate: 0.12149532710280374\n",
      "for banner value: 7,  click rate: 0.3201000527801363\n"
     ]
    },
    {
     "data": {
      "text/plain": [
       "<matplotlib.axes._subplots.AxesSubplot at 0x7f5a76af6978>"
      ]
     },
     "execution_count": 12,
     "metadata": {},
     "output_type": "execute_result"
    },
    {
     "data": {
      "image/png": "[encoded data removed]",
      "text/plain": [
       "<matplotlib.figure.Figure at 0x7f5a775277f0>"
      ]
     },
     "metadata": {},
     "output_type": "display_data"
    }
   ],
   "source": [
    "banner_pos_values = X_train.banner_pos.unique()\n",
    "banner_pos_values.sort()\n",
    "click_avg_list=[]\n",
    "\n",
    "for i in banner_pos_values:\n",
    "    click_avg=X_train.loc[np.where((X_train.banner_pos == i))].click.mean()\n",
    "    click_avg_list.append(click_avg)\n",
    "    print(\"for banner value: {},  click rate: {}\".format(i,click_avg))\n",
    "sns.tsplot(data=np.asarray(click_avg_list),time=banner_pos_values)"
   ]
  },
  {
   "cell_type": "markdown",
   "metadata": {},
   "source": [
    "most import values here is 0(72%):0.16 , 1(27%):0.18, 7(0.1%):0.32, althrough 7 grow up but the propotion is very small (0.1%),\n",
    "\n",
    "major value\n",
    "- 0[72%]: 0.16\n",
    "- 1[27%]: 0.18 (higher than overall avg)"
   ]
  },
  {
   "cell_type": "markdown",
   "metadata": {},
   "source": [
    "## [Server] site_id, site_domain, site_category\n",
    "\n",
    "## site_id "
   ]
  },
  {
   "cell_type": "code",
   "execution_count": 13,
   "metadata": {},
   "outputs": [
    {
     "name": "stdout",
     "output_type": "stream",
     "text": [
      "there are 4737 sites in training set\n",
      "and for first 10 sites includes 0.7003338225287823% of records\n",
      "and for first 100 sites includes 0.9097911900642922% of records\n",
      "and for first 500 sites includes 0.9788013134246046% of records\n",
      "and for first 1000 sites includes 0.9931108801271123% of records\n"
     ]
    }
   ],
   "source": [
    "site_count_train = X_train.site_id.value_counts()/len(X_train)\n",
    "print (\"there are {} sites in training set\".format(len(site_count_train)))\n",
    "print (\"and for first 10 sites includes {}% of records\".format(sum(site_count_train[0:10])))\n",
    "print (\"and for first 100 sites includes {}% of records\".format(sum(site_count_train[0:100])))\n",
    "print (\"and for first 500 sites includes {}% of records\".format(sum(site_count_train[0:500])))\n",
    "print (\"and for first 1000 sites includes {}% of records\".format(sum(site_count_train[0:1000])))"
   ]
  },
  {
   "cell_type": "code",
   "execution_count": 14,
   "metadata": {
    "scrolled": true
   },
   "outputs": [
    {
     "name": "stdout",
     "output_type": "stream",
     "text": [
      "there are 2825 sites in testing set\n",
      "and for first 10 sites includes 0.7823733840397215% of records\n",
      "and for first 100 sites includes 0.941939248457224% of records\n",
      "and for first 500 sites includes 0.9894590104913976% of records\n",
      "and for first 1000 sites includes 0.9971335656599366% of records\n",
      "85f751fd    0.361032\n",
      "1fbe01fe    0.160433\n",
      "e151e245    0.065244\n",
      "d9750ee7    0.023838\n",
      "5b08c53b    0.022591\n",
      "5b4d2eda    0.019079\n",
      "856e6d3f    0.018944\n",
      "a7853007    0.011410\n",
      "b7e9786d    0.009130\n",
      "5ee41ff2    0.008633\n",
      "Name: site_id, dtype: float64\n",
      "85f751fd    0.375602\n",
      "17d1b03f    0.177621\n",
      "1fbe01fe    0.093908\n",
      "e151e245    0.058738\n",
      "5b08c53b    0.020932\n",
      "5b4d2eda    0.019437\n",
      "d9750ee7    0.013176\n",
      "57ef2c87    0.008276\n",
      "5ee41ff2    0.007649\n",
      "856e6d3f    0.007034\n",
      "Name: site_id, dtype: float64\n"
     ]
    }
   ],
   "source": [
    "site_count_test = X_test.site_id.value_counts()/len(X_test)\n",
    "print (\"there are {} sites in testing set\".format(len(site_count_test)))\n",
    "print (\"and for first 10 sites includes {}% of records\".format(sum(site_count_test[0:10])))\n",
    "print (\"and for first 100 sites includes {}% of records\".format(sum(site_count_test[0:100])))\n",
    "print (\"and for first 500 sites includes {}% of records\".format(sum(site_count_test[0:500])))\n",
    "print (\"and for first 1000 sites includes {}% of records\".format(sum(site_count_test[0:1000])))\n",
    "print(site_count_train[0:10])\n",
    "print(site_count_test[0:10])"
   ]
  },
  {
   "cell_type": "code",
   "execution_count": 15,
   "metadata": {},
   "outputs": [
    {
     "data": {
      "text/plain": [
       "252"
      ]
     },
     "execution_count": 15,
     "metadata": {},
     "output_type": "execute_result"
    }
   ],
   "source": [
    "site_count_test.index.get_loc('a7853007')"
   ]
  },
  {
   "cell_type": "markdown",
   "metadata": {},
   "source": [
    "the both top 10 sites \n",
    " - a7853007 - training set with 1% propotion ,testing 0.001%\n",
    " - 17d1b03f - testing set with 17% - **never occurs in traning data!! **\n"
   ]
  },
  {
   "cell_type": "code",
   "execution_count": 16,
   "metadata": {},
   "outputs": [
    {
     "name": "stdout",
     "output_type": "stream",
     "text": [
      "for site id value: 85f751fd,  click rate: 0.11882644017386244\n",
      "for site id value: 1fbe01fe,  click rate: 0.20563261719201684\n",
      "for site id value: e151e245,  click rate: 0.2963240978001302\n",
      "for site id value: d9750ee7,  click rate: 0.2801207788367255\n",
      "for site id value: 5b08c53b,  click rate: 0.4672049927462842\n",
      "for site id value: 5b4d2eda,  click rate: 0.13001322339763535\n",
      "for site id value: 856e6d3f,  click rate: 0.04275543125588367\n",
      "for site id value: a7853007,  click rate: 0.10229107912015972\n",
      "for site id value: b7e9786d,  click rate: 0.07401537256941905\n",
      "for site id value: 5ee41ff2,  click rate: 0.3312388254710494\n"
     ]
    },
    {
     "data": {
      "text/plain": [
       "<matplotlib.axes._subplots.AxesSubplot at 0x7f5a76b958d0>"
      ]
     },
     "execution_count": 16,
     "metadata": {},
     "output_type": "execute_result"
    },
    {
     "data": {
      "image/png": "[encoded data removed]",
      "text/plain": [
       "<matplotlib.figure.Figure at 0x7f5a77eb2f60>"
      ]
     },
     "metadata": {},
     "output_type": "display_data"
    }
   ],
   "source": [
    "site_id_values = site_count_train[0:10].index\n",
    "\n",
    "click_avg_list=[]\n",
    "\n",
    "for i in site_id_values:\n",
    "    click_avg=X_train.loc[np.where((X_train.site_id == i))].click.mean()\n",
    "    click_avg_list.append(click_avg)\n",
    "    print(\"for site id value: {},  click rate: {}\".format(i,click_avg))\n",
    "sns.tsplot(data=np.asarray(click_avg_list))"
   ]
  },
  {
   "cell_type": "code",
   "execution_count": 17,
   "metadata": {},
   "outputs": [
    {
     "name": "stdout",
     "output_type": "stream",
     "text": [
      "4737\n",
      "2825\n",
      "2720\n"
     ]
    }
   ],
   "source": [
    "print (len(site_count_train))\n",
    "print (len(site_count_test))\n",
    "print (len(site_count_test.index.intersection(site_count_train.index)))"
   ]
  },
  {
   "cell_type": "markdown",
   "metadata": {},
   "source": [
    "this varible seems important since that avg click rate for the top 10 site \n",
    "\n",
    "are significantly differ from overall avg 0.16\n",
    "\n",
    "one problem is that are some sites in testing never saw in the training set. (1 of first 100 , 982 of first 1000)\n",
    "\n",
    "and adding sites that not seem in the testing data may cause the loss in training set explained but not in testing (not sure if remove the not duplicated feature.)\n",
    "\n",
    "but even only remain the intercept of siteid : there are still 2720 sites there, it's a high dimensions. (for my computer)\n",
    "\n",
    "it may need some skills like:\n",
    "- feature hashing \n",
    "- pre-clustering \n",
    "\n",
    "to handle the siteid.\n"
   ]
  },
  {
   "cell_type": "markdown",
   "metadata": {},
   "source": [
    "## site_domain"
   ]
  },
  {
   "cell_type": "code",
   "execution_count": 18,
   "metadata": {},
   "outputs": [
    {
     "name": "stdout",
     "output_type": "stream",
     "text": [
      "there are 7745 sites_domain in training set\n",
      "and for first 10 sites_domain includes 0.7409259553923304% of records\n",
      "and for first 100 sites_domain includes 0.937162777371977% of records\n",
      "and for first 500 sites_domain includes 0.9859766389776915% of records\n",
      "and for first 1000 sites_domain includes 0.9948378596959954% of records\n"
     ]
    }
   ],
   "source": [
    "site_domain_train = X_train.site_domain.value_counts()/len(X_train)\n",
    "print (\"there are {} sites_domain in training set\".format(len(site_domain_train)))\n",
    "print (\"and for first 10 sites_domain includes {}% of records\".format(sum(site_domain_train[0:10])))\n",
    "print (\"and for first 100 sites_domain includes {}% of records\".format(sum(site_domain_train[0:100])))\n",
    "print (\"and for first 500 sites_domain includes {}% of records\".format(sum(site_domain_train[0:500])))\n",
    "print (\"and for first 1000 sites_domain includes {}% of records\".format(sum(site_domain_train[0:1000])))"
   ]
  },
  {
   "cell_type": "code",
   "execution_count": 19,
   "metadata": {},
   "outputs": [
    {
     "name": "stdout",
     "output_type": "stream",
     "text": [
      "there are 3366 sites_domain in testing set\n",
      "and for first 10 sites_domain includes 0.808233554649474% of records\n",
      "and for first 100 sites_domain includes 0.9594458853199063% of records\n",
      "and for first 500 sites_domain includes 0.9925749279513717% of records\n",
      "and for first 1000 sites_domain includes 0.9975807565062214% of records\n"
     ]
    }
   ],
   "source": [
    "site_domain_test = X_test.site_domain.value_counts()/len(X_test)\n",
    "print (\"there are {} sites_domain in testing set\".format(len(site_domain_test)))\n",
    "print (\"and for first 10 sites_domain includes {}% of records\".format(sum(site_domain_test[0:10])))\n",
    "print (\"and for first 100 sites_domain includes {}% of records\".format(sum(site_domain_test[0:100])))\n",
    "print (\"and for first 500 sites_domain includes {}% of records\".format(sum(site_domain_test[0:500])))\n",
    "print (\"and for first 1000 sites_domain includes {}% of records\".format(sum(site_domain_test[0:1000])))\n"
   ]
  },
  {
   "cell_type": "code",
   "execution_count": 20,
   "metadata": {},
   "outputs": [
    {
     "name": "stdout",
     "output_type": "stream",
     "text": [
      "c4e18dd6    0.374280\n",
      "f3845767    0.160433\n",
      "7e091613    0.082243\n",
      "7687a86e    0.031912\n",
      "98572c79    0.024656\n",
      "16a36ef3    0.021165\n",
      "58a89a43    0.018944\n",
      "9d54950b    0.009298\n",
      "b12b9f85    0.009249\n",
      "17d996e6    0.008746\n",
      "Name: site_domain, dtype: float64\n",
      "c4e18dd6    0.384341\n",
      "f3845767    0.271529\n",
      "7e091613    0.059876\n",
      "7687a86e    0.028738\n",
      "16a36ef3    0.021100\n",
      "98572c79    0.013668\n",
      "bd6d812f    0.008276\n",
      "17d996e6    0.007713\n",
      "58a89a43    0.007034\n",
      "b12b9f85    0.005959\n",
      "Name: site_domain, dtype: float64\n"
     ]
    }
   ],
   "source": [
    "print(site_domain_train[0:10])\n",
    "print(site_domain_test[0:10])"
   ]
  },
  {
   "cell_type": "markdown",
   "metadata": {},
   "source": [
    "it's similar as site_id 9d54950b in training, bd6d812f in testing"
   ]
  },
  {
   "cell_type": "code",
   "execution_count": 21,
   "metadata": {},
   "outputs": [
    {
     "name": "stdout",
     "output_type": "stream",
     "text": [
      "for domain value: c4e18dd6,  click rate: 0.12275013466727122\n",
      "for domain value: f3845767,  click rate: 0.20563261719201684\n",
      "for domain value: 7e091613,  click rate: 0.2583572731253579\n",
      "for domain value: 7687a86e,  click rate: 0.4598357574418776\n",
      "for domain value: 98572c79,  click rate: 0.27436959278342243\n",
      "for domain value: 16a36ef3,  click rate: 0.1422612967841007\n",
      "for domain value: 58a89a43,  click rate: 0.04275543125588367\n",
      "for domain value: 9d54950b,  click rate: 0.11234905863667925\n",
      "for domain value: b12b9f85,  click rate: 0.07485725747141807\n",
      "for domain value: 17d996e6,  click rate: 0.3287245475113122\n"
     ]
    },
    {
     "data": {
      "text/plain": [
       "<matplotlib.axes._subplots.AxesSubplot at 0x7f5a76b21ba8>"
      ]
     },
     "execution_count": 21,
     "metadata": {},
     "output_type": "execute_result"
    },
    {
     "data": {
      "image/png": "[encoded data removed]",
      "text/plain": [
       "<matplotlib.figure.Figure at 0x7f5a7519e400>"
      ]
     },
     "metadata": {},
     "output_type": "display_data"
    }
   ],
   "source": [
    "site_domain_values = site_domain_train[0:10].index\n",
    "\n",
    "click_avg_list=[]\n",
    "for i in site_domain_values:\n",
    "    click_avg=X_train.loc[np.where((X_train.site_domain == i))].click.mean()\n",
    "    click_avg_list.append(click_avg)\n",
    "    print(\"for domain value: {},  click rate: {}\".format(i,click_avg))\n",
    "sns.tsplot(data=np.asarray(click_avg_list))"
   ]
  },
  {
   "cell_type": "code",
   "execution_count": 22,
   "metadata": {},
   "outputs": [
    {
     "name": "stdout",
     "output_type": "stream",
     "text": [
      "7745\n",
      "3366\n",
      "3199\n"
     ]
    }
   ],
   "source": [
    "print (len(site_domain_train.index))\n",
    "print (len(site_domain_test.index))\n",
    "print (len(site_domain_test.index.intersection(site_domain_train.index)))"
   ]
  },
  {
   "cell_type": "markdown",
   "metadata": {},
   "source": [
    "like site is the value are significantly differ from avg~0.16\n",
    "site_domain values is more than site_id ,\n",
    "\n",
    "the differnce lead me to intution of serve overfitting. (training loss explained by the features that not been seen testing set.)\n"
   ]
  },
  {
   "cell_type": "markdown",
   "metadata": {},
   "source": [
    "## site_category"
   ]
  },
  {
   "cell_type": "code",
   "execution_count": 23,
   "metadata": {},
   "outputs": [
    {
     "name": "stdout",
     "output_type": "stream",
     "text": [
      "there are 26 site_category in training set\n",
      "and for first 10 site_category includes 0.9862797632202673% of records\n",
      "and for first 20 site_category includes 0.9979671258976269% of records\n"
     ]
    }
   ],
   "source": [
    "site_category_train = X_train.site_category.value_counts()/len(X_train)\n",
    "print (\"there are {} site_category in training set\".format(len(site_category_train)))\n",
    "print (\"and for first 10 site_category includes {}% of records\".format(sum(site_category_train[0:5])))\n",
    "print (\"and for first 20 site_category includes {}% of records\".format(sum(site_category_train[0:10])))\n"
   ]
  },
  {
   "cell_type": "code",
   "execution_count": 24,
   "metadata": {},
   "outputs": [
    {
     "name": "stdout",
     "output_type": "stream",
     "text": [
      "there are 22 site_category in testing set\n",
      "and for first 10 site_category includes 0.9812948829308106% of records\n",
      "and for first 20 site_category includes 0.9955224115361695% of records\n"
     ]
    }
   ],
   "source": [
    "site_category_test = X_test.site_category.value_counts()/len(X_test)\n",
    "print (\"there are {} site_category in testing set\".format(len(site_category_test)))\n",
    "print (\"and for first 10 site_category includes {}% of records\".format(sum(site_category_test[0:5])))\n",
    "print (\"and for first 20 site_category includes {}% of records\".format(sum(site_category_test[0:10])))\n"
   ]
  },
  {
   "cell_type": "code",
   "execution_count": 25,
   "metadata": {},
   "outputs": [
    {
     "name": "stdout",
     "output_type": "stream",
     "text": [
      "22\n"
     ]
    }
   ],
   "source": [
    "print (len(site_category_test.index.intersection(site_category_train.index)))"
   ]
  },
  {
   "cell_type": "code",
   "execution_count": 26,
   "metadata": {},
   "outputs": [
    {
     "name": "stdout",
     "output_type": "stream",
     "text": [
      "for site_category value: 50e219e0,  click rate: 0.1285795435923565\n",
      "for site_category value: f028772b,  click rate: 0.1795786434983823\n",
      "for site_category value: 28905ebd,  click rate: 0.20801907713595713\n",
      "for site_category value: 3e814130,  click rate: 0.2830027544777475\n",
      "for site_category value: f66779e6,  click rate: 0.039686909538880814\n",
      "for site_category value: 75fa27f6,  click rate: 0.11128365996832003\n",
      "for site_category value: 335d28a8,  click rate: 0.09364443109121154\n",
      "for site_category value: 76b2941d,  click rate: 0.03026137426733108\n",
      "for site_category value: c0dd3be3,  click rate: 0.11199809931100024\n",
      "for site_category value: 72722551,  click rate: 0.057626878366884036\n"
     ]
    },
    {
     "data": {
      "text/plain": [
       "<matplotlib.axes._subplots.AxesSubplot at 0x7f5a7512f6d8>"
      ]
     },
     "execution_count": 26,
     "metadata": {},
     "output_type": "execute_result"
    },
    {
     "data": {
      "image/png": "[encoded data removed]",
      "text/plain": [
       "<matplotlib.figure.Figure at 0x7f5a7513e160>"
      ]
     },
     "metadata": {},
     "output_type": "display_data"
    }
   ],
   "source": [
    "site_domain_values = site_category_train[0:10].index\n",
    "\n",
    "click_avg_list=[]\n",
    "for i in site_domain_values:\n",
    "    click_avg=X_train.loc[np.where((X_train.site_category == i))].click.mean()\n",
    "    click_avg_list.append(click_avg)\n",
    "    print(\"for site_category value: {},  click rate: {}\".format(i,click_avg))\n",
    "sns.tsplot(data=np.asarray(click_avg_list))"
   ]
  },
  {
   "cell_type": "markdown",
   "metadata": {},
   "source": [
    "has similar result as site_id, site_domain"
   ]
  },
  {
   "cell_type": "markdown",
   "metadata": {},
   "source": [
    "## [App] app_id, app_domain, app_category"
   ]
  },
  {
   "cell_type": "code",
   "execution_count": 27,
   "metadata": {},
   "outputs": [
    {
     "name": "stdout",
     "output_type": "stream",
     "text": [
      "there are 8552 app_id in training set\n",
      "and for first 10 app_id includes 0.8015270585568016% of records\n",
      "and for first 100 app_id includes 0.9475593823606717% of records\n",
      "and for first 1000 app_id includes 0.9949173324166294% of records\n",
      "there are 3952 app_id in test set\n",
      "and for first 10 app_id includes 0.8341819837359726% of records\n",
      "and for first 100 app_id includes 0.9586072113292425% of records\n",
      "and for first 1000 app_id includes 0.996781187137682% of records\n"
     ]
    }
   ],
   "source": [
    "app_id_train = X_train.app_id.value_counts()/len(X_train)\n",
    "print (\"there are {} app_id in training set\".format(len(app_id_train)))\n",
    "print (\"and for first 10 app_id includes {}% of records\".format(sum(app_id_train[0:10])))\n",
    "print (\"and for first 100 app_id includes {}% of records\".format(sum(app_id_train[0:100])))\n",
    "print (\"and for first 1000 app_id includes {}% of records\".format(sum(app_id_train[0:1000])))\n",
    "\n",
    "app_id_test = X_test.app_id.value_counts()/len(X_test)\n",
    "print (\"there are {} app_id in test set\".format(len(app_id_test)))\n",
    "print (\"and for first 10 app_id includes {}% of records\".format(sum(app_id_test[0:10])))\n",
    "print (\"and for first 100 app_id includes {}% of records\".format(sum(app_id_test[0:100])))\n",
    "print (\"and for first 1000 app_id includes {}% of records\".format(sum(app_id_test[0:1000])))\n"
   ]
  },
  {
   "cell_type": "code",
   "execution_count": 28,
   "metadata": {},
   "outputs": [
    {
     "name": "stdout",
     "output_type": "stream",
     "text": [
      "3368\n"
     ]
    }
   ],
   "source": [
    "print (len(app_id_test.index.intersection(app_id_train.index)))"
   ]
  },
  {
   "cell_type": "code",
   "execution_count": 29,
   "metadata": {},
   "outputs": [
    {
     "name": "stdout",
     "output_type": "stream",
     "text": [
      "for app_id value: ecad2386,  click rate: 0.19861002453080054\n",
      "for app_id value: 92f5800b,  click rate: 0.019298095587748337\n",
      "for app_id value: e2fcccd2,  click rate: 0.19458448773090903\n",
      "for app_id value: febd1138,  click rate: 0.048211166410661074\n",
      "for app_id value: 9c13b419,  click rate: 0.30533562413896853\n",
      "for app_id value: 7358e05e,  click rate: 0.18730416561761434\n",
      "for app_id value: a5184c22,  click rate: 0.2472505224261736\n",
      "for app_id value: d36838b1,  click rate: 0.07102051698967594\n",
      "for app_id value: 685d1c4c,  click rate: 0.07601924041956844\n",
      "for app_id value: 54c5d545,  click rate: 0.1242415632158474\n"
     ]
    },
    {
     "data": {
      "text/plain": [
       "<matplotlib.axes._subplots.AxesSubplot at 0x7f5a750b93c8>"
      ]
     },
     "execution_count": 29,
     "metadata": {},
     "output_type": "execute_result"
    },
    {
     "data": {
      "image/png": "[encoded data removed]",
      "text/plain": [
       "<matplotlib.figure.Figure at 0x7f5a750581d0>"
      ]
     },
     "metadata": {},
     "output_type": "display_data"
    }
   ],
   "source": [
    "app_id_values = app_id_train[0:10].index\n",
    "\n",
    "click_avg_list=[]\n",
    "for i in app_id_values:\n",
    "    click_avg=X_train.loc[np.where((X_train.app_id == i))].click.mean()\n",
    "    click_avg_list.append(click_avg)\n",
    "    print(\"for app_id value: {},  click rate: {}\".format(i,click_avg))\n",
    "sns.tsplot(data=np.asarray(click_avg_list))"
   ]
  },
  {
   "cell_type": "markdown",
   "metadata": {},
   "source": [
    "I think that app, site ,devices should connect to each other, there must exist strongly Interaction between variables\n",
    "\n",
    "Q : how to derive a good feature hasing with more than one feature?\n"
   ]
  },
  {
   "cell_type": "markdown",
   "metadata": {},
   "source": [
    "## Devices\n",
    "- device_id\n",
    "- device_ip\n",
    "- device_model\n",
    "- device_type\n",
    "- device_conn_type"
   ]
  },
  {
   "cell_type": "markdown",
   "metadata": {},
   "source": [
    "### Device_id"
   ]
  },
  {
   "cell_type": "code",
   "execution_count": 30,
   "metadata": {},
   "outputs": [
    {
     "name": "stdout",
     "output_type": "stream",
     "text": [
      "there are 2686408 device_id in training set\n",
      "and for first 10 device_id includes 0.8271875459988872% of records\n",
      "and for first 100 device_id includes 0.8288558794984787% of records\n",
      "and for first 1000 device_id includes 0.8334813748765809% of records\n",
      "there are 291759 device_id in test set\n",
      "and for first 10 device_id includes 0.8624970070764074% of records\n",
      "and for first 100 device_id includes 0.8657260876328035% of records\n",
      "and for first 1000 device_id includes 0.8751061723259905% of records\n"
     ]
    }
   ],
   "source": [
    "device_id_train = X_train.device_id.value_counts()/len(X_train)\n",
    "print (\"there are {} device_id in training set\".format(len(device_id_train)))\n",
    "print (\"and for first 10 device_id includes {}% of records\".format(sum(device_id_train[0:10])))\n",
    "print (\"and for first 100 device_id includes {}% of records\".format(sum(device_id_train[0:100])))\n",
    "print (\"and for first 1000 device_id includes {}% of records\".format(sum(device_id_train[0:1000])))\n",
    "\n",
    "device_id_test = X_test.device_id.value_counts()/len(X_test)\n",
    "print (\"there are {} device_id in test set\".format(len(device_id_test)))\n",
    "print (\"and for first 10 device_id includes {}% of records\".format(sum(device_id_test[0:10])))\n",
    "print (\"and for first 100 device_id includes {}% of records\".format(sum(device_id_test[0:100])))\n",
    "print (\"and for first 1000 device_id includes {}% of records\".format(sum(device_id_test[0:1000])))\n"
   ]
  },
  {
   "cell_type": "markdown",
   "metadata": {},
   "source": [
    "there are 2686408 device_id but ~0.82 fucus in first ten devices id\n"
   ]
  },
  {
   "cell_type": "code",
   "execution_count": 31,
   "metadata": {},
   "outputs": [
    {
     "name": "stdout",
     "output_type": "stream",
     "text": [
      "a99f214a    0.825109\n",
      "0f7c61dc    0.000528\n",
      "c357dbff    0.000486\n",
      "936e92fb    0.000339\n",
      "afeffc18    0.000239\n",
      "Name: device_id, dtype: float64\n",
      "a99f214a    0.861110\n",
      "afeffc18    0.000515\n",
      "936e92fb    0.000184\n",
      "bcf28145    0.000122\n",
      "93cb7907    0.000107\n",
      "Name: device_id, dtype: float64\n"
     ]
    }
   ],
   "source": [
    "print (device_id_train[0:5])\n",
    "print (device_id_test[0:5])"
   ]
  },
  {
   "cell_type": "markdown",
   "metadata": {},
   "source": [
    "you will see that most of device_id is a99f214a : ~82% in training set, and the second major device_id is ~0.05%"
   ]
  },
  {
   "cell_type": "code",
   "execution_count": 32,
   "metadata": {},
   "outputs": [
    {
     "name": "stdout",
     "output_type": "stream",
     "text": [
      "for device_id value: a99f214a,  click rate: 0.17415196837921157\n",
      "for device_id value: 0f7c61dc,  click rate: 0.75810076793407\n",
      "for device_id value: c357dbff,  click rate: 0.63400620328469\n",
      "for device_id value: 936e92fb,  click rate: 0.06381271878646441\n",
      "for device_id value: afeffc18,  click rate: 0.22902423865755128\n",
      "for device_id value: 987552d1,  click rate: 0.0\n",
      "for device_id value: 28dc8687,  click rate: 0.0\n",
      "for device_id value: d857ffbb,  click rate: 0.22477522477522477\n",
      "for device_id value: cef4c8cc,  click rate: 0.24390904168922578\n",
      "for device_id value: b09da1c4,  click rate: 0.13105335157318743\n"
     ]
    },
    {
     "data": {
      "text/plain": [
       "<matplotlib.axes._subplots.AxesSubplot at 0x7f5a74f537f0>"
      ]
     },
     "execution_count": 32,
     "metadata": {},
     "output_type": "execute_result"
    },
    {
     "data": {
      "image/png": "[encoded data removed]",
      "text/plain": [
       "<matplotlib.figure.Figure at 0x7f5a74f79240>"
      ]
     },
     "metadata": {},
     "output_type": "display_data"
    }
   ],
   "source": [
    "device_id_values = device_id_train[0:10].index\n",
    "click_avg_list=[]\n",
    "for i in device_id_values:\n",
    "    click_avg=X_train.loc[np.where((X_train.device_id == i))].click.mean()\n",
    "    click_avg_list.append(click_avg)\n",
    "    print(\"for device_id value: {},  click rate: {}\".format(i,click_avg))\n",
    "sns.tsplot(data=np.asarray(click_avg_list))"
   ]
  },
  {
   "cell_type": "code",
   "execution_count": 33,
   "metadata": {},
   "outputs": [
    {
     "name": "stdout",
     "output_type": "stream",
     "text": [
      "82194\n"
     ]
    }
   ],
   "source": [
    "print (len(device_id_test.index.intersection(device_id_train.index)))"
   ]
  },
  {
   "cell_type": "markdown",
   "metadata": {},
   "source": [
    "the major device are slightly higher than avg, and device with 0f7c61dc has extreamly high ctrp.\n",
    "\n",
    "the overlap devices are only 82194 relative to 2686408"
   ]
  },
  {
   "cell_type": "markdown",
   "metadata": {},
   "source": [
    "### Device_ip"
   ]
  },
  {
   "cell_type": "code",
   "execution_count": 34,
   "metadata": {},
   "outputs": [
    {
     "data": {
      "text/plain": [
       "40428967"
      ]
     },
     "execution_count": 34,
     "metadata": {},
     "output_type": "execute_result"
    }
   ],
   "source": [
    "len(X_train)"
   ]
  },
  {
   "cell_type": "code",
   "execution_count": 35,
   "metadata": {},
   "outputs": [
    {
     "name": "stdout",
     "output_type": "stream",
     "text": [
      "there are 6729486 Device_ip in training set\n",
      "and for first 10 Device_ip includes 0.02547735142478412% of records\n",
      "and for first 100 Device_ip includes 0.07263314444813788% of records\n",
      "and for first 1000 Device_ip includes 0.13118341608876652% of records\n",
      "there are 1077199 Device_ip in test set\n",
      "and for first 10 Device_ip includes 0.02377735794317552% of records\n",
      "and for first 100 Device_ip includes 0.06313779857143606% of records\n",
      "and for first 1000 Device_ip includes 0.12725408654224288% of records\n"
     ]
    }
   ],
   "source": [
    "device_ip_train = X_train.device_ip.value_counts()/len(X_train)\n",
    "print (\"there are {} Device_ip in training set\".format(len(device_ip_train)))\n",
    "print (\"and for first 10 Device_ip includes {}% of records\".format(sum(device_ip_train[0:10])))\n",
    "print (\"and for first 100 Device_ip includes {}% of records\".format(sum(device_ip_train[0:100])))\n",
    "print (\"and for first 1000 Device_ip includes {}% of records\".format(sum(device_ip_train[0:1000])))\n",
    "\n",
    "device_ip_test = X_test.device_ip.value_counts()/len(X_test)\n",
    "print (\"there are {} Device_ip in test set\".format(len(device_ip_test)))\n",
    "print (\"and for first 10 Device_ip includes {}% of records\".format(sum(device_ip_test[0:10])))\n",
    "print (\"and for first 100 Device_ip includes {}% of records\".format(sum(device_ip_test[0:100])))\n",
    "print (\"and for first 1000 Device_ip includes {}% of records\".format(sum(device_ip_test[0:1000])))\n"
   ]
  },
  {
   "cell_type": "markdown",
   "metadata": {},
   "source": [
    "6 million device_ips in training set , 1 million in testing set\n",
    "\n",
    "and the ratio is more even than device_id, maybe device_id means some category like personal-computer \n",
    "\n",
    "and device_ip has more likelyto identify user."
   ]
  },
  {
   "cell_type": "code",
   "execution_count": 36,
   "metadata": {},
   "outputs": [
    {
     "name": "stdout",
     "output_type": "stream",
     "text": [
      "for device_ip value: 6b9769f2,  click rate: 0.22034872856383056\n",
      "for device_ip value: 431b3174,  click rate: 0.19476507884896765\n",
      "for device_ip value: 2f323f36,  click rate: 0.0986903806822676\n",
      "for device_ip value: af9205f9,  click rate: 0.09605664587222804\n",
      "for device_ip value: 930ec31d,  click rate: 0.09392385856821003\n",
      "for device_ip value: af62faf4,  click rate: 0.09403044218083495\n",
      "for device_ip value: 009a7861,  click rate: 0.09660115715256143\n",
      "for device_ip value: 285aa37d,  click rate: 0.09547196792985829\n",
      "for device_ip value: 6394f6f6,  click rate: 0.09296258895941527\n",
      "for device_ip value: d90a7774,  click rate: 0.09285369968667148\n"
     ]
    },
    {
     "data": {
      "text/plain": [
       "<matplotlib.axes._subplots.AxesSubplot at 0x7f5a76c15da0>"
      ]
     },
     "execution_count": 36,
     "metadata": {},
     "output_type": "execute_result"
    },
    {
     "data": {
      "image/png": "[encoded data removed]",
      "text/plain": [
       "<matplotlib.figure.Figure at 0x7f5a76c29438>"
      ]
     },
     "metadata": {},
     "output_type": "display_data"
    }
   ],
   "source": [
    "device_ip_values = device_ip_train[0:10].index\n",
    "\n",
    "click_avg_list=[]\n",
    "for i in device_ip_values:\n",
    "    click_avg=X_train.loc[np.where((X_train.device_ip == i))].click.mean()\n",
    "    click_avg_list.append(click_avg)\n",
    "    print(\"for device_ip value: {},  click rate: {}\".format(i,click_avg))\n",
    "sns.tsplot(data=np.asarray(click_avg_list))"
   ]
  },
  {
   "cell_type": "markdown",
   "metadata": {},
   "source": [
    "### Device model"
   ]
  },
  {
   "cell_type": "code",
   "execution_count": 37,
   "metadata": {},
   "outputs": [
    {
     "name": "stdout",
     "output_type": "stream",
     "text": [
      "there are 8251 device_model in training set\n",
      "and for first 10 device_model includes 0.2430748725288974% of records\n",
      "and for first 100 device_model includes 0.6367738507887184% of records\n",
      "and for first 1000 device_model includes 0.9399271072149823% of records\n",
      "there are 5438 device_model in test set\n",
      "and for first 10 device_model includes 0.2531274959235069% of records\n",
      "and for first 100 device_model includes 0.665110637680602% of records\n",
      "and for first 1000 device_model includes 0.9509285053907583% of records\n"
     ]
    }
   ],
   "source": [
    "device_model_train = X_train.device_model.value_counts()/len(X_train)\n",
    "print (\"there are {} device_model in training set\".format(len(device_model_train)))\n",
    "print (\"and for first 10 device_model includes {}% of records\".format(sum(device_model_train[0:10])))\n",
    "print (\"and for first 100 device_model includes {}% of records\".format(sum(device_model_train[0:100])))\n",
    "print (\"and for first 1000 device_model includes {}% of records\".format(sum(device_model_train[0:1000])))\n",
    "\n",
    "device_model_test = X_test.device_model.value_counts()/len(X_test)\n",
    "print (\"there are {} device_model in test set\".format(len(device_model_test)))\n",
    "print (\"and for first 10 device_model includes {}% of records\".format(sum(device_model_test[0:10])))\n",
    "print (\"and for first 100 device_model includes {}% of records\".format(sum(device_model_test[0:100])))\n",
    "print (\"and for first 1000 device_model includes {}% of records\".format(sum(device_model_test[0:1000])))\n"
   ]
  },
  {
   "cell_type": "code",
   "execution_count": 38,
   "metadata": {},
   "outputs": [
    {
     "name": "stdout",
     "output_type": "stream",
     "text": [
      "for device_model value: 8a4875bd,  click rate: 0.13820409127376837\n",
      "for device_model value: 1f0bc64f,  click rate: 0.2244911712222701\n",
      "for device_model value: d787e91b,  click rate: 0.2238691573753762\n",
      "for device_model value: 76dc4769,  click rate: 0.1893143011168536\n",
      "for device_model value: be6db1d7,  click rate: 0.18841640945844265\n",
      "for device_model value: a0f5f879,  click rate: 0.16653210795540718\n",
      "for device_model value: 4ea23a13,  click rate: 0.21177147126340573\n",
      "for device_model value: 7abbbd5c,  click rate: 0.1725328386785681\n",
      "for device_model value: ecb851b2,  click rate: 0.18107065025903354\n",
      "for device_model value: d4897fef,  click rate: 0.1688793213974052\n"
     ]
    },
    {
     "data": {
      "text/plain": [
       "<matplotlib.axes._subplots.AxesSubplot at 0x7f5a7698b7b8>"
      ]
     },
     "execution_count": 38,
     "metadata": {},
     "output_type": "execute_result"
    },
    {
     "data": {
      "image/png": "[encoded data removed]",
      "text/plain": [
       "<matplotlib.figure.Figure at 0x7f5a76ba1748>"
      ]
     },
     "metadata": {},
     "output_type": "display_data"
    }
   ],
   "source": [
    "device_model_values = device_model_train[0:10].index\n",
    "\n",
    "click_avg_list=[]\n",
    "for i in device_model_values:\n",
    "    click_avg=X_train.loc[np.where((X_train.device_model == i))].click.mean()\n",
    "    click_avg_list.append(click_avg)\n",
    "    print(\"for device_model value: {},  click rate: {}\".format(i,click_avg))\n",
    "sns.tsplot(data=np.asarray(click_avg_list))"
   ]
  },
  {
   "cell_type": "markdown",
   "metadata": {},
   "source": [
    "model are more less features compare to id,ip, but the relationship is not so obviously to ctr"
   ]
  },
  {
   "cell_type": "markdown",
   "metadata": {},
   "source": [
    "### device_type"
   ]
  },
  {
   "cell_type": "code",
   "execution_count": 39,
   "metadata": {},
   "outputs": [
    {
     "name": "stdout",
     "output_type": "stream",
     "text": [
      "there are 5 device_type in training set\n",
      "there are 4 device_type in test set\n"
     ]
    }
   ],
   "source": [
    "device_type_train = X_train.device_type.value_counts()/len(X_train)\n",
    "print (\"there are {} device_type in training set\".format(len(device_type_train)))\n",
    "\n",
    "\n",
    "device_type_test = X_test.device_type.value_counts()/len(X_test)\n",
    "print (\"there are {} device_type in test set\".format(len(device_type_test)))\n",
    "\n"
   ]
  },
  {
   "cell_type": "code",
   "execution_count": 40,
   "metadata": {},
   "outputs": [
    {
     "name": "stdout",
     "output_type": "stream",
     "text": [
      "1    9.227213e-01\n",
      "0    5.493121e-02\n",
      "4    1.915142e-02\n",
      "5    3.195357e-03\n",
      "2    7.667769e-07\n",
      "Name: device_type, dtype: float64\n",
      "1    0.948730\n",
      "0    0.036576\n",
      "4    0.012644\n",
      "5    0.002050\n",
      "Name: device_type, dtype: float64\n"
     ]
    }
   ],
   "source": [
    "print (device_type_train)\n",
    "print (device_type_test)"
   ]
  },
  {
   "cell_type": "code",
   "execution_count": 46,
   "metadata": {},
   "outputs": [
    {
     "name": "stdout",
     "output_type": "stream",
     "text": [
      "for device_type value: 1,  click rate: 0.16917577631774597\n",
      "for device_type value: 0,  click rate: 0.21073148019733323\n",
      "for device_type value: 4,  click rate: 0.09544449495784427\n",
      "for device_type value: 5,  click rate: 0.09384216433796494\n",
      "for device_type value: 2,  click rate: 0.06451612903225806\n"
     ]
    },
    {
     "data": {
      "text/plain": [
       "<matplotlib.axes._subplots.AxesSubplot at 0x7f5a76a53be0>"
      ]
     },
     "execution_count": 46,
     "metadata": {},
     "output_type": "execute_result"
    },
    {
     "data": {
      "image/png": "[encoded data removed]",
      "text/plain": [
       "<matplotlib.figure.Figure at 0x7f5a7686d6a0>"
      ]
     },
     "metadata": {},
     "output_type": "display_data"
    }
   ],
   "source": [
    "device_type_values = device_type_train.index\n",
    "\n",
    "click_avg_list=[]\n",
    "for i in device_type_values:\n",
    "    click_avg=X_train.loc[np.where((X_train.device_type == i))].click.mean()\n",
    "    click_avg_list.append(click_avg)\n",
    "    print(\"for device_type value: {},  click rate: {}\".format(i,click_avg))\n",
    "sns.tsplot(data=np.asarray(click_avg_list),time=device_type_values)"
   ]
  },
  {
   "cell_type": "markdown",
   "metadata": {},
   "source": [
    "the type 1  occupied [~92%] of rows in training set, and the avg ctr is near avg\n",
    "\n",
    "the type 0  [~ 5%] and ctr ~ 0.21 seems useful."
   ]
  },
  {
   "cell_type": "markdown",
   "metadata": {},
   "source": [
    "### device_conn_type"
   ]
  },
  {
   "cell_type": "code",
   "execution_count": 42,
   "metadata": {},
   "outputs": [
    {
     "name": "stdout",
     "output_type": "stream",
     "text": [
      "there are 4 device_type in training set\n",
      "there are 4 device_type in test set\n"
     ]
    }
   ],
   "source": [
    "device_conn_type_train = X_train.device_conn_type.value_counts()/len(X_train)\n",
    "print (\"there are {} device_type in training set\".format(len(device_conn_type_train)))\n",
    "\n",
    "device_conn_type_test = X_test.device_conn_type.value_counts()/len(X_test)\n",
    "print (\"there are {} device_type in test set\".format(len(device_conn_type_test)))\n",
    "\n"
   ]
  },
  {
   "cell_type": "code",
   "execution_count": 43,
   "metadata": {},
   "outputs": [
    {
     "name": "stdout",
     "output_type": "stream",
     "text": [
      "0    0.862917\n",
      "2    0.082056\n",
      "3    0.053966\n",
      "5    0.001061\n",
      "Name: device_conn_type, dtype: float64\n",
      "0    0.842929\n",
      "2    0.100459\n",
      "3    0.054575\n",
      "5    0.002037\n",
      "Name: device_conn_type, dtype: float64\n"
     ]
    }
   ],
   "source": [
    "print (device_conn_type_train)\n",
    "print (device_conn_type_test)"
   ]
  },
  {
   "cell_type": "code",
   "execution_count": 48,
   "metadata": {},
   "outputs": [
    {
     "name": "stdout",
     "output_type": "stream",
     "text": [
      "for device_conn_type value: 0,  click rate: 0.18112530003435678\n",
      "for device_conn_type value: 2,  click rate: 0.13528943828123047\n",
      "for device_conn_type value: 3,  click rate: 0.04404261443324674\n",
      "for device_conn_type value: 5,  click rate: 0.029610631848915832\n"
     ]
    },
    {
     "data": {
      "text/plain": [
       "<matplotlib.axes._subplots.AxesSubplot at 0x7f5a768544e0>"
      ]
     },
     "execution_count": 48,
     "metadata": {},
     "output_type": "execute_result"
    },
    {
     "data": {
      "image/png": "[encoded data removed]",
      "text/plain": [
       "<matplotlib.figure.Figure at 0x7f5a77df67b8>"
      ]
     },
     "metadata": {},
     "output_type": "display_data"
    }
   ],
   "source": [
    "device_conn_type_values = device_conn_type_train.index\n",
    "\n",
    "click_avg_list=[]\n",
    "for i in device_conn_type_values:\n",
    "    click_avg=X_train.loc[np.where((X_train.device_conn_type == i))].click.mean()\n",
    "    click_avg_list.append(click_avg)\n",
    "    print(\"for device_conn_type value: {},  click rate: {}\".format(i,click_avg))\n",
    "sns.tsplot(data=np.asarray(click_avg_list),time=device_conn_type_values)"
   ]
  },
  {
   "cell_type": "markdown",
   "metadata": {
    "collapsed": true
   },
   "source": [
    "the connection type seems a useful features since\n",
    "- type 0 [~86%] : ~0.18\n",
    "- type 2 [~8%] : ~0.13\n",
    "- type 3 [~5%] : ~0.0"
   ]
  },
  {
   "cell_type": "markdown",
   "metadata": {},
   "source": [
    "## C14-C21 : anonymized categorical variables\n",
    "it said as categorical variables, \n",
    "and I think I need to take a trial for a small X to train model"
   ]
  },
  {
   "cell_type": "code",
   "execution_count": null,
   "metadata": {
    "collapsed": true
   },
   "outputs": [],
   "source": []
  }
 ],
 "metadata": {
  "kernelspec": {
   "display_name": "Python 3",
   "language": "python",
   "name": "python3"
  },
  "language_info": {
   "codemirror_mode": {
    "name": "ipython",
    "version": 3
   },
   "file_extension": ".py",
   "mimetype": "text/x-python",
   "name": "python",
   "nbconvert_exporter": "python",
   "pygments_lexer": "ipython3",
   "version": "3.6.1"
  }
 },
 "nbformat": 4,
 "nbformat_minor": 2
}
